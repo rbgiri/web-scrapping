{
 "cells": [
  {
   "cell_type": "code",
   "execution_count": 111,
   "id": "5d1aa10e",
   "metadata": {},
   "outputs": [],
   "source": [
    "import requests\n",
    "from bs4 import BeautifulSoup\n",
    "import pandas as pd\n",
    "from tqdm import tqdm \n"
   ]
  },
  {
   "cell_type": "code",
   "execution_count": 124,
   "id": "9f740287",
   "metadata": {},
   "outputs": [
    {
     "name": "stderr",
     "output_type": "stream",
     "text": [
      "100%|██████████████████████████████████████████████████████████████████████████████████| 50/50 [01:35<00:00,  1.91s/it]\n"
     ]
    }
   ],
   "source": [
    "data = []\n",
    "\n",
    "\n",
    "for i in tqdm(range(1,51)):\n",
    "    link = 'https://books.toscrape.com/catalogue/page-' + str(i) +'.html'\n",
    "    \n",
    "    res = requests.get(link)\n",
    "    soup = BeautifulSoup(res.text , 'html.parser') \n",
    "\n",
    "    for sp in soup.find_all('li' , class_ = \"col-xs-6 col-sm-4 col-md-3 col-lg-3\"):\n",
    "   \n",
    "        book_link = 'https://books.toscrape.com/catalogue/' + sp.find_all('a')[-1].get('href')\n",
    "        title     = sp.find_all('a')[-1].get('title')\n",
    "        img_link  = 'https://books.toscrape.com/' + sp.find('img').get('src')[3:]\n",
    "        book_rating = sp.find('p').get('class')[-1]\n",
    "        book_price = sp.find('p' , class_='price_color').text\n",
    "        stock_availability = sp.find('p', class_=\"instock availability\").text.strip()\n",
    "    \n",
    "    \n",
    "    \n",
    "        data.append([title,book_link,img_link,book_rating,book_price,stock_availability])\n",
    "    "
   ]
  },
  {
   "cell_type": "code",
   "execution_count": 126,
   "id": "7e18bf5a",
   "metadata": {},
   "outputs": [
    {
     "data": {
      "text/plain": [
       "['1,000 Places to See Before You Die',\n",
       " 'https://books.toscrape.com/catalogue/1000-places-to-see-before-you-die_1/index.html',\n",
       " 'https://books.toscrape.com/media/cache/d7/0f/d70f7edd92705c45a82118c3ff6c299d.jpg',\n",
       " 'Five',\n",
       " 'Â£26.08',\n",
       " 'In stock']"
      ]
     },
     "execution_count": 126,
     "metadata": {},
     "output_type": "execute_result"
    }
   ],
   "source": [
    "data[-1]"
   ]
  },
  {
   "cell_type": "code",
   "execution_count": 128,
   "id": "dad3ba6f",
   "metadata": {},
   "outputs": [
    {
     "data": {
      "text/plain": [
       "['A Light in the Attic',\n",
       " 'https://books.toscrape.com/catalogue/a-light-in-the-attic_1000/index.html',\n",
       " 'https://books.toscrape.com/media/cache/2c/da/2cdad67c44b002e7ead0cc35693c0e8b.jpg',\n",
       " 'Three',\n",
       " 'Â£51.77',\n",
       " 'In stock']"
      ]
     },
     "execution_count": 128,
     "metadata": {},
     "output_type": "execute_result"
    }
   ],
   "source": [
    "data[0]"
   ]
  },
  {
   "cell_type": "code",
   "execution_count": 94,
   "id": "9a484a06",
   "metadata": {},
   "outputs": [
    {
     "data": {
      "text/plain": [
       "20"
      ]
     },
     "execution_count": 94,
     "metadata": {},
     "output_type": "execute_result"
    }
   ],
   "source": [
    "len(data)"
   ]
  },
  {
   "cell_type": "code",
   "execution_count": 135,
   "id": "073831c1",
   "metadata": {},
   "outputs": [],
   "source": [
    " df = pd.DataFrame(data,columns = ['title','book_link','img_link','book_rating','book_price','stock_availability'])"
   ]
  },
  {
   "cell_type": "code",
   "execution_count": 136,
   "id": "fb08a919",
   "metadata": {},
   "outputs": [
    {
     "data": {
      "text/plain": [
       "title                 0\n",
       "book_link             0\n",
       "img_link              0\n",
       "book_rating           0\n",
       "book_price            0\n",
       "stock_availability    0\n",
       "dtype: int64"
      ]
     },
     "execution_count": 136,
     "metadata": {},
     "output_type": "execute_result"
    }
   ],
   "source": [
    "df.isnull().sum()"
   ]
  },
  {
   "cell_type": "code",
   "execution_count": 137,
   "id": "9d6a0f53",
   "metadata": {},
   "outputs": [],
   "source": [
    "df.to_csv('books.csv',index = False)"
   ]
  },
  {
   "cell_type": "code",
   "execution_count": null,
   "id": "75ec9b9b",
   "metadata": {},
   "outputs": [],
   "source": []
  }
 ],
 "metadata": {
  "kernelspec": {
   "display_name": "Python 3",
   "language": "python",
   "name": "python3"
  },
  "language_info": {
   "codemirror_mode": {
    "name": "ipython",
    "version": 3
   },
   "file_extension": ".py",
   "mimetype": "text/x-python",
   "name": "python",
   "nbconvert_exporter": "python",
   "pygments_lexer": "ipython3",
   "version": "3.8.8"
  }
 },
 "nbformat": 4,
 "nbformat_minor": 5
}
