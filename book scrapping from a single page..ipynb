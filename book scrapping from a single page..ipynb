{
 "cells": [
  {
   "cell_type": "code",
   "execution_count": 5,
   "id": "1d4fe302",
   "metadata": {},
   "outputs": [
    {
     "data": {
      "text/html": [
       "<div>\n",
       "<style scoped>\n",
       "    .dataframe tbody tr th:only-of-type {\n",
       "        vertical-align: middle;\n",
       "    }\n",
       "\n",
       "    .dataframe tbody tr th {\n",
       "        vertical-align: top;\n",
       "    }\n",
       "\n",
       "    .dataframe thead th {\n",
       "        text-align: right;\n",
       "    }\n",
       "</style>\n",
       "<table border=\"1\" class=\"dataframe\">\n",
       "  <thead>\n",
       "    <tr style=\"text-align: right;\">\n",
       "      <th></th>\n",
       "      <th>title</th>\n",
       "      <th>book_link</th>\n",
       "      <th>img_link</th>\n",
       "      <th>book_rating</th>\n",
       "      <th>book_price</th>\n",
       "      <th>stock_availability</th>\n",
       "    </tr>\n",
       "  </thead>\n",
       "  <tbody>\n",
       "    <tr>\n",
       "      <th>0</th>\n",
       "      <td>A Light in the Attic</td>\n",
       "      <td>https://books.toscrape.com/catalogue/a-light-i...</td>\n",
       "      <td>https://books.toscrape.com/media/cache/2c/da/2...</td>\n",
       "      <td>Three</td>\n",
       "      <td>Â£51.77</td>\n",
       "      <td>In stock</td>\n",
       "    </tr>\n",
       "    <tr>\n",
       "      <th>1</th>\n",
       "      <td>Tipping the Velvet</td>\n",
       "      <td>https://books.toscrape.com/catalogue/tipping-t...</td>\n",
       "      <td>https://books.toscrape.com/media/cache/26/0c/2...</td>\n",
       "      <td>One</td>\n",
       "      <td>Â£53.74</td>\n",
       "      <td>In stock</td>\n",
       "    </tr>\n",
       "    <tr>\n",
       "      <th>2</th>\n",
       "      <td>Soumission</td>\n",
       "      <td>https://books.toscrape.com/catalogue/soumissio...</td>\n",
       "      <td>https://books.toscrape.com/media/cache/3e/ef/3...</td>\n",
       "      <td>One</td>\n",
       "      <td>Â£50.10</td>\n",
       "      <td>In stock</td>\n",
       "    </tr>\n",
       "    <tr>\n",
       "      <th>3</th>\n",
       "      <td>Sharp Objects</td>\n",
       "      <td>https://books.toscrape.com/catalogue/sharp-obj...</td>\n",
       "      <td>https://books.toscrape.com/media/cache/32/51/3...</td>\n",
       "      <td>Four</td>\n",
       "      <td>Â£47.82</td>\n",
       "      <td>In stock</td>\n",
       "    </tr>\n",
       "    <tr>\n",
       "      <th>4</th>\n",
       "      <td>Sapiens: A Brief History of Humankind</td>\n",
       "      <td>https://books.toscrape.com/catalogue/sapiens-a...</td>\n",
       "      <td>https://books.toscrape.com/media/cache/be/a5/b...</td>\n",
       "      <td>Five</td>\n",
       "      <td>Â£54.23</td>\n",
       "      <td>In stock</td>\n",
       "    </tr>\n",
       "  </tbody>\n",
       "</table>\n",
       "</div>"
      ],
      "text/plain": [
       "                                   title  \\\n",
       "0                   A Light in the Attic   \n",
       "1                     Tipping the Velvet   \n",
       "2                             Soumission   \n",
       "3                          Sharp Objects   \n",
       "4  Sapiens: A Brief History of Humankind   \n",
       "\n",
       "                                           book_link  \\\n",
       "0  https://books.toscrape.com/catalogue/a-light-i...   \n",
       "1  https://books.toscrape.com/catalogue/tipping-t...   \n",
       "2  https://books.toscrape.com/catalogue/soumissio...   \n",
       "3  https://books.toscrape.com/catalogue/sharp-obj...   \n",
       "4  https://books.toscrape.com/catalogue/sapiens-a...   \n",
       "\n",
       "                                            img_link book_rating book_price  \\\n",
       "0  https://books.toscrape.com/media/cache/2c/da/2...       Three    Â£51.77   \n",
       "1  https://books.toscrape.com/media/cache/26/0c/2...         One    Â£53.74   \n",
       "2  https://books.toscrape.com/media/cache/3e/ef/3...         One    Â£50.10   \n",
       "3  https://books.toscrape.com/media/cache/32/51/3...        Four    Â£47.82   \n",
       "4  https://books.toscrape.com/media/cache/be/a5/b...        Five    Â£54.23   \n",
       "\n",
       "  stock_availability  \n",
       "0           In stock  \n",
       "1           In stock  \n",
       "2           In stock  \n",
       "3           In stock  \n",
       "4           In stock  "
      ]
     },
     "execution_count": 5,
     "metadata": {},
     "output_type": "execute_result"
    }
   ],
   "source": [
    "import pandas as pd\n",
    "from tqdm import tqdm \n",
    "import requests\n",
    "from bs4 import BeautifulSoup\n",
    "\n",
    "df = pd.read_csv('books.csv')\n",
    "df.head()"
   ]
  },
  {
   "cell_type": "markdown",
   "id": "0edfcced",
   "metadata": {},
   "source": [
    "### Approach - 1"
   ]
  },
  {
   "cell_type": "code",
   "execution_count": 6,
   "id": "34ca531d",
   "metadata": {},
   "outputs": [
    {
     "name": "stderr",
     "output_type": "stream",
     "text": [
      "100%|██████████████████████████████████████████████████████████████████████████████| 1000/1000 [25:57<00:00,  1.56s/it]\n"
     ]
    }
   ],
   "source": [
    "data = []\n",
    "\n",
    "for link in tqdm(df['book_link']):\n",
    "    \n",
    "    res = requests.get(link)\n",
    "    soup = BeautifulSoup(res.text,'html.parser')\n",
    "    \n",
    "    typ                = soup.find('ul',class_ ='breadcrumb').find_all('a')[2].text\n",
    "    upc                = soup.find('table',class_ ='table table-striped').find_all('td')[0].text\n",
    "    price_ex           = soup.find('table',class_ ='table table-striped').find_all('td')[2].text[2:]\n",
    "    price_in           = soup.find('table',class_ ='table table-striped').find_all('td')[3].text[2:]\n",
    "    tax                = soup.find('table',class_ ='table table-striped').find_all('td')[4].text[2:]\n",
    "    Availability       = soup.find('table',class_ ='table table-striped').find_all('td')[5].text\n",
    "    Number_of_reviews  = soup.find('table',class_ ='table table-striped').find_all('td')[6].text\n",
    "    \n",
    "    \n",
    "    data.append([typ,upc,price_ex,price_in,tax,Availability,Number_of_reviews])\n",
    "   "
   ]
  },
  {
   "cell_type": "markdown",
   "id": "3d1b0a5a",
   "metadata": {},
   "source": [
    "### Aproach -2"
   ]
  },
  {
   "cell_type": "code",
   "execution_count": 7,
   "id": "f5cf693c",
   "metadata": {},
   "outputs": [
    {
     "name": "stderr",
     "output_type": "stream",
     "text": [
      "100%|██████████████████████████████████████████████████████████████████████████████| 1000/1000 [00:32<00:00, 30.50it/s]\n"
     ]
    }
   ],
   "source": [
    "data = []\n",
    "\n",
    "for link in tqdm(df['book_link']):\n",
    "    \n",
    "    soup = BeautifulSoup(res.text,'html.parser')\n",
    "    \n",
    "    typ                =  soup.find('ul',class_ ='breadcrumb').find_all('a')[2].text\n",
    "    \n",
    "    temp               = soup.find('table',class_ ='table table-striped').find_all('td')\n",
    "    \n",
    "    upc                = temp[0].text\n",
    "    price_ex           = temp[2].text[2:]\n",
    "    price_in           = temp[3].text[2:]\n",
    "    tax                = temp[4].text[2:]\n",
    "    Availability       = temp[5].text\n",
    "    Number_of_reviews  = temp[6].text\n",
    "    \n",
    "    \n",
    "    data.append([typ,upc,price_ex,price_in,tax,Availability,Number_of_reviews])\n",
    "   "
   ]
  },
  {
   "cell_type": "code",
   "execution_count": 10,
   "id": "649c0dd3",
   "metadata": {},
   "outputs": [],
   "source": [
    "df1 = pd.DataFrame(data,columns = [\"category\",\"upc\",\"price_ex\",\"price_in\",\"tax\",\"Availability\",\"Number_of_reviews\"])"
   ]
  },
  {
   "cell_type": "code",
   "execution_count": 11,
   "id": "54799923",
   "metadata": {},
   "outputs": [],
   "source": [
    "df1.to_csv('data.csv',index = False)"
   ]
  },
  {
   "cell_type": "code",
   "execution_count": null,
   "id": "2435b3c1",
   "metadata": {},
   "outputs": [],
   "source": []
  }
 ],
 "metadata": {
  "kernelspec": {
   "display_name": "Python 3",
   "language": "python",
   "name": "python3"
  },
  "language_info": {
   "codemirror_mode": {
    "name": "ipython",
    "version": 3
   },
   "file_extension": ".py",
   "mimetype": "text/x-python",
   "name": "python",
   "nbconvert_exporter": "python",
   "pygments_lexer": "ipython3",
   "version": "3.8.8"
  }
 },
 "nbformat": 4,
 "nbformat_minor": 5
}
